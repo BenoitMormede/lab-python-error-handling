{
 "cells": [
  {
   "cell_type": "markdown",
   "id": "25d7736c-ba17-4aff-b6bb-66eba20fbf4e",
   "metadata": {},
   "source": [
    "# Lab | Error Handling"
   ]
  },
  {
   "cell_type": "markdown",
   "id": "bc99b386-7508-47a0-bcdb-d969deaf6c8b",
   "metadata": {},
   "source": [
    "## Exercise: Error Handling for Managing Customer Orders\n",
    "\n",
    "The implementation of your code for managing customer orders assumes that the user will always enter a valid input. \n",
    "\n",
    "For example, we could modify the `initialize_inventory` function to include error handling.\n",
    "   - If the user enters an invalid quantity (e.g., a negative value or a non-numeric value), display an error message and ask them to re-enter the quantity for that product.\n",
    "   - Use a try-except block to handle the error and continue prompting the user until a valid quantity is entered.\n",
    "\n",
    "```python\n",
    "# Step 1: Define the function for initializing the inventory with error handling\n",
    "def initialize_inventory(products):\n",
    "    inventory = {}\n",
    "    for product in products:\n",
    "        valid_quantity = False\n",
    "        while not valid_quantity:\n",
    "            try:\n",
    "                quantity = int(input(f\"Enter the quantity of {product}s available: \"))\n",
    "                if quantity < 0:\n",
    "                    raise ValueError(\"Invalid quantity! Please enter a non-negative value.\")\n",
    "                valid_quantity = True\n",
    "            except ValueError as error:\n",
    "                print(f\"Error: {error}\")\n",
    "        inventory[product] = quantity\n",
    "    return inventory\n",
    "\n",
    "# Or, in another way:\n",
    "\n",
    "def initialize_inventory(products):\n",
    "    inventory = {}\n",
    "    for product in products:\n",
    "        valid_input = False\n",
    "        while not valid_input:\n",
    "            try:\n",
    "                quantity = int(input(f\"Enter the quantity of {product}s available: \"))\n",
    "                if quantity >= 0:\n",
    "                    inventory[product] = quantity\n",
    "                    valid_input = True\n",
    "                else:\n",
    "                    print(\"Quantity cannot be negative. Please enter a valid quantity.\")\n",
    "            except ValueError:\n",
    "                print(\"Invalid input. Please enter a valid quantity.\")\n",
    "    return inventory\n",
    "```\n",
    "\n",
    "Let's enhance your code by implementing error handling to handle invalid inputs.\n",
    "\n",
    "Follow the steps below to complete the exercise:\n",
    "\n",
    "2. Modify the `calculate_total_price` function to include error handling.\n",
    "   - If the user enters an invalid price (e.g., a negative value or a non-numeric value), display an error message and ask them to re-enter the price for that product.\n",
    "   - Use a try-except block to handle the error and continue prompting the user until a valid price is entered.\n",
    "\n",
    "3. Modify the `get_customer_orders` function to include error handling.\n",
    "   - If the user enters an invalid number of orders (e.g., a negative value or a non-numeric value), display an error message and ask them to re-enter the number of orders.\n",
    "   - If the user enters an invalid product name (e.g., a product name that is not in the inventory), or that doesn't have stock available, display an error message and ask them to re-enter the product name. *Hint: you will need to pass inventory as a parameter*\n",
    "   - Use a try-except block to handle the error and continue prompting the user until a valid product name is entered.\n",
    "\n",
    "4. Test your code by running the program and deliberately entering invalid quantities and product names. Make sure the error handling mechanism works as expected.\n"
   ]
  },
  {
   "cell_type": "code",
   "execution_count": 256,
   "id": "4af3db6d-829a-4229-8c44-abab5d250dbf",
   "metadata": {},
   "outputs": [],
   "source": [
    "#1 define function initialize_inventory\n",
    "\n",
    "def initialize_inventory(products):\n",
    "    inventory = {}\n",
    "    for items in products:\n",
    "        valid_entry=False\n",
    "        while valid_entry==False:\n",
    "            try:\n",
    "                qty = int(input(f\"Enter quantity of {items}\")) # ask user input qty\n",
    "                if qty >= 0:\n",
    "                    inventory[items] = int(qty)\n",
    "                    valid_entry=True\n",
    "                else:\n",
    "                    print(\"Invalid quantity! Please enter a positive value.\")\n",
    "            finally:\n",
    "                valid_entry=True\n",
    "            \n",
    "    return inventory\n",
    "    \n",
    "#2 get customer order\n",
    "\n",
    "def get_order(order):\n",
    "    while True:\n",
    "        try:\n",
    "            num_orders = int(input(\"Enter the number of customer orders: \"))\n",
    "            if num_orders >0:\n",
    "                return num_orders\n",
    "            else:\n",
    "                print(\"Number should be positive\")\n",
    "        except ValueError:\n",
    "            print(\"Please enter an integer\")\n",
    "              \n",
    "\n",
    "def get_customer_orders():\n",
    "    \n",
    "    return {input(\"Enter the name of a product that a customer wants to order:\") for i in range(num_orders)}\n",
    "\n",
    "#3 Update inventory\n",
    "\n",
    "def update_inventory(customer_orders, inventory):\n",
    "    inventory = {product: quantity for product, quantity in inventory.items() if quantity > 0}\n",
    "    inventory = {product: inventory[product]-1 if product in customer_orders else inventory[product] for product in inventory}\n",
    "    inventory = {product: quantity for product, quantity in inventory.items() if quantity > 0}\n",
    "    return inventory\n",
    "\n",
    "#4 calculate order_statistics\n",
    "\n",
    "def calculate_order_statistics (my_customer_orders,products):\n",
    "    order_status = (len(my_customer_orders),len(my_customer_orders)/len(products)*100)\n",
    "    return order_status\n",
    "\n",
    "#5 print order_statistics\n",
    "\n",
    "def print_order_statistics (order_statistics):\n",
    "    print(\"Order statistics\")\n",
    "    print(f\"Total products ordered: {order_statistics[0]}\")\n",
    "    print(f\"Percentage of Products Ordered: {order_statistics[1]} %\")\n",
    "\n",
    "#step 6: printing update inventory\n",
    "\n",
    "def print_updated_inventory(inventory):\n",
    "    print(\"Updated Inventory:\")\n",
    "    [print(f\"{product} : {quantity}\") for product, quantity in inventory.items()]\n",
    "\n",
    "#step 6b: define helper function\n",
    "\n",
    "def get_price(product):\n",
    "    while True:\n",
    "        try:\n",
    "            price=float(input(f\"Enter the price of {product}: \"))\n",
    "            if price >= 0:\n",
    "                return price\n",
    "                  \n",
    "            else:\n",
    "                print(\"Price cannot be negative\")\n",
    "                          \n",
    "        except ValueError:\n",
    "            print(\"This is not a valid number\")\n",
    "       \n",
    "                \n",
    "#step 7: calculating total price\n",
    "def calculate_total_price(customer_orders):\n",
    "    total_price = [get_price(product) for product in customer_orders]\n",
    "    return sum(total_price)\n"
   ]
  },
  {
   "cell_type": "code",
   "execution_count": 248,
   "id": "86ffe753-2e98-4635-a0b1-d030ed1fe0cb",
   "metadata": {},
   "outputs": [
    {
     "name": "stdin",
     "output_type": "stream",
     "text": [
      "Enter quantity of t-shirt 10\n",
      "Enter quantity of mug 10\n",
      "Enter quantity of hat 10\n",
      "Enter quantity of book 10\n",
      "Enter quantity of keychain 10\n"
     ]
    }
   ],
   "source": [
    "products = [\"t-shirt\", \"mug\", \"hat\", \"book\", \"keychain\"] \n",
    "my_inventory = initialize_inventory(products) "
   ]
  },
  {
   "cell_type": "code",
   "execution_count": 258,
   "id": "5e5d2194-73e6-494d-8ff1-b38fecb7e31a",
   "metadata": {},
   "outputs": [
    {
     "ename": "NameError",
     "evalue": "name 'num_orders' is not defined",
     "output_type": "error",
     "traceback": [
      "\u001b[1;31m---------------------------------------------------------------------------\u001b[0m",
      "\u001b[1;31mNameError\u001b[0m                                 Traceback (most recent call last)",
      "Cell \u001b[1;32mIn[258], line 1\u001b[0m\n\u001b[1;32m----> 1\u001b[0m my_customer_orders \u001b[38;5;241m=\u001b[39m get_customer_orders()\n",
      "Cell \u001b[1;32mIn[256], line 36\u001b[0m, in \u001b[0;36mget_customer_orders\u001b[1;34m()\u001b[0m\n\u001b[0;32m     34\u001b[0m \u001b[38;5;28;01mdef\u001b[39;00m \u001b[38;5;21mget_customer_orders\u001b[39m():\n\u001b[1;32m---> 36\u001b[0m     \u001b[38;5;28;01mreturn\u001b[39;00m {\u001b[38;5;28minput\u001b[39m(\u001b[38;5;124m\"\u001b[39m\u001b[38;5;124mEnter the name of a product that a customer wants to order:\u001b[39m\u001b[38;5;124m\"\u001b[39m) \u001b[38;5;28;01mfor\u001b[39;00m i \u001b[38;5;129;01min\u001b[39;00m \u001b[38;5;28mrange\u001b[39m(num_orders)}\n",
      "\u001b[1;31mNameError\u001b[0m: name 'num_orders' is not defined"
     ]
    }
   ],
   "source": [
    "my_customer_orders = get_customer_orders()"
   ]
  },
  {
   "cell_type": "code",
   "execution_count": 252,
   "id": "70ff1a31-5036-4abc-8811-ed5584cd66e3",
   "metadata": {},
   "outputs": [
    {
     "name": "stdout",
     "output_type": "stream",
     "text": [
      "Order statistics\n",
      "Total products ordered: 2\n",
      "Percentage of Products Ordered: 40.0 %\n",
      "Updated Inventory:\n",
      "t-shirt : 10\n",
      "mug : 9\n",
      "hat : 9\n",
      "book : 10\n",
      "keychain : 10\n"
     ]
    }
   ],
   "source": [
    "my_inventory = update_inventory(my_customer_orders, my_inventory) \n",
    "order_statistics = calculate_order_statistics (my_customer_orders,products) \n",
    "print_order_statistics (order_statistics) \n",
    "print_updated_inventory(my_inventory)"
   ]
  },
  {
   "cell_type": "code",
   "execution_count": 254,
   "id": "65e0f458-b34e-4986-8834-d314a684c997",
   "metadata": {},
   "outputs": [
    {
     "name": "stdin",
     "output_type": "stream",
     "text": [
      "Enter the price of mug:  -1\n"
     ]
    },
    {
     "name": "stdout",
     "output_type": "stream",
     "text": [
      "Price cannot be negative\n"
     ]
    },
    {
     "name": "stdin",
     "output_type": "stream",
     "text": [
      "Enter the price of mug:  a\n"
     ]
    },
    {
     "name": "stdout",
     "output_type": "stream",
     "text": [
      "This is not a valid number\n"
     ]
    },
    {
     "name": "stdin",
     "output_type": "stream",
     "text": [
      "Enter the price of mug:  10.5689\n",
      "Enter the price of hat:  -2\n"
     ]
    },
    {
     "name": "stdout",
     "output_type": "stream",
     "text": [
      "Price cannot be negative\n"
     ]
    },
    {
     "name": "stdin",
     "output_type": "stream",
     "text": [
      "Enter the price of hat:  a\n"
     ]
    },
    {
     "name": "stdout",
     "output_type": "stream",
     "text": [
      "This is not a valid number\n"
     ]
    },
    {
     "name": "stdin",
     "output_type": "stream",
     "text": [
      "Enter the price of hat:  10.2\n"
     ]
    },
    {
     "name": "stdout",
     "output_type": "stream",
     "text": [
      "total price:  20.7689\n"
     ]
    }
   ],
   "source": [
    "total_price=calculate_total_price(my_customer_orders) \n",
    "print(\"total price: \", total_price)"
   ]
  }
 ],
 "metadata": {
  "kernelspec": {
   "display_name": "Python 3 (ipykernel)",
   "language": "python",
   "name": "python3"
  },
  "language_info": {
   "codemirror_mode": {
    "name": "ipython",
    "version": 3
   },
   "file_extension": ".py",
   "mimetype": "text/x-python",
   "name": "python",
   "nbconvert_exporter": "python",
   "pygments_lexer": "ipython3",
   "version": "3.12.4"
  }
 },
 "nbformat": 4,
 "nbformat_minor": 5
}
